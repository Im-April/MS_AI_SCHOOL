{
 "cells": [
  {
   "cell_type": "markdown",
   "metadata": {},
   "source": [
    "### 파이썬 기본 문법"
   ]
  },
  {
   "cell_type": "code",
   "execution_count": 1,
   "metadata": {},
   "outputs": [
    {
     "name": "stdout",
     "output_type": "stream",
     "text": [
      "hello World !!\n"
     ]
    }
   ],
   "source": [
    "print(\"hello World !!\")"
   ]
  },
  {
   "cell_type": "code",
   "execution_count": 2,
   "metadata": {},
   "outputs": [
    {
     "name": "stdout",
     "output_type": "stream",
     "text": [
      "Hello Python !!\n"
     ]
    }
   ],
   "source": [
    "print(\"Hello Python !!\")"
   ]
  },
  {
   "cell_type": "code",
   "execution_count": 3,
   "metadata": {},
   "outputs": [
    {
     "name": "stdout",
     "output_type": "stream",
     "text": [
      "Hello python1\n",
      "Hello python2\n",
      "Hello python3\n"
     ]
    }
   ],
   "source": [
    "print(\"Hello python1\")\n",
    "print(\"Hello python2\")\n",
    "print(\"Hello python3\")"
   ]
  },
  {
   "cell_type": "code",
   "execution_count": 4,
   "metadata": {},
   "outputs": [
    {
     "name": "stdout",
     "output_type": "stream",
     "text": [
      "1\n",
      "2\n",
      "3\n"
     ]
    }
   ],
   "source": [
    "print(1)\n",
    "print(2)\n",
    "print(3)"
   ]
  },
  {
   "cell_type": "code",
   "execution_count": 5,
   "metadata": {},
   "outputs": [
    {
     "name": "stdout",
     "output_type": "stream",
     "text": [
      "1\n",
      "2\n",
      "3\n"
     ]
    }
   ],
   "source": [
    "print('1')\n",
    "print('2')\n",
    "print('3')"
   ]
  },
  {
   "cell_type": "code",
   "execution_count": 6,
   "metadata": {},
   "outputs": [
    {
     "name": "stdout",
     "output_type": "stream",
     "text": [
      "3\n",
      "5\n",
      "7\n"
     ]
    }
   ],
   "source": [
    "print(1+2)\n",
    "print(2+3)\n",
    "print(3+4)"
   ]
  },
  {
   "cell_type": "code",
   "execution_count": 7,
   "metadata": {},
   "outputs": [
    {
     "name": "stdout",
     "output_type": "stream",
     "text": [
      "1+2\n",
      "2+3\n",
      "3+4\n"
     ]
    }
   ],
   "source": [
    "print('1+2')\n",
    "print('2+3')\n",
    "print('3+4')"
   ]
  },
  {
   "cell_type": "markdown",
   "metadata": {},
   "source": [
    "#### Hello Python 홍길동 나이 = 20세"
   ]
  },
  {
   "cell_type": "code",
   "execution_count": 9,
   "metadata": {},
   "outputs": [
    {
     "name": "stdout",
     "output_type": "stream",
     "text": [
      "Hello\n",
      "Python\n",
      "홍길동 나이는 20세 입니다\n"
     ]
    }
   ],
   "source": [
    "# 프린트문 연습중입니다.\n",
    "\n",
    "print('Hello')\n",
    "print('Python')\n",
    "print('홍길동','나이는','20세','입니다')"
   ]
  },
  {
   "cell_type": "code",
   "execution_count": 10,
   "metadata": {},
   "outputs": [
    {
     "name": "stdout",
     "output_type": "stream",
     "text": [
      "Hello\n",
      "World\n"
     ]
    },
    {
     "data": {
      "text/plain": [
       "(None, None)"
      ]
     },
     "execution_count": 10,
     "metadata": {},
     "output_type": "execute_result"
    }
   ],
   "source": [
    "print('Hello'), print('World')"
   ]
  },
  {
   "cell_type": "code",
   "execution_count": 11,
   "metadata": {},
   "outputs": [
    {
     "name": "stdout",
     "output_type": "stream",
     "text": [
      "Hi Python\n"
     ]
    }
   ],
   "source": [
    "print('Hi', 'Python')"
   ]
  },
  {
   "cell_type": "code",
   "execution_count": 12,
   "metadata": {},
   "outputs": [
    {
     "name": "stdout",
     "output_type": "stream",
     "text": [
      "Hi*Python\n"
     ]
    }
   ],
   "source": [
    "print('Hi','Python', sep='*')"
   ]
  },
  {
   "cell_type": "code",
   "execution_count": 13,
   "metadata": {},
   "outputs": [
    {
     "name": "stdout",
     "output_type": "stream",
     "text": [
      "HiPython\n"
     ]
    }
   ],
   "source": [
    "print('Hi','Python',sep='')"
   ]
  },
  {
   "cell_type": "code",
   "execution_count": 14,
   "metadata": {},
   "outputs": [
    {
     "name": "stdout",
     "output_type": "stream",
     "text": [
      "Hi Python\n"
     ]
    }
   ],
   "source": [
    "print('Hi',end=' ')\n",
    "print('Python')"
   ]
  },
  {
   "cell_type": "markdown",
   "metadata": {},
   "source": [
    "#### 변수"
   ]
  },
  {
   "cell_type": "code",
   "execution_count": 15,
   "metadata": {},
   "outputs": [
    {
     "name": "stdout",
     "output_type": "stream",
     "text": [
      "April 나이 =  25 세\n"
     ]
    }
   ],
   "source": [
    "name = 'April'\n",
    "age = 25\n",
    "\n",
    "print(name, '나이 = ',age,'세')"
   ]
  },
  {
   "cell_type": "code",
   "execution_count": 16,
   "metadata": {},
   "outputs": [
    {
     "data": {
      "text/plain": [
       "str"
      ]
     },
     "execution_count": 16,
     "metadata": {},
     "output_type": "execute_result"
    }
   ],
   "source": [
    "type(name)"
   ]
  },
  {
   "cell_type": "code",
   "execution_count": 18,
   "metadata": {},
   "outputs": [
    {
     "data": {
      "text/plain": [
       "['False',\n",
       " 'None',\n",
       " 'True',\n",
       " 'and',\n",
       " 'as',\n",
       " 'assert',\n",
       " 'async',\n",
       " 'await',\n",
       " 'break',\n",
       " 'class',\n",
       " 'continue',\n",
       " 'def',\n",
       " 'del',\n",
       " 'elif',\n",
       " 'else',\n",
       " 'except',\n",
       " 'finally',\n",
       " 'for',\n",
       " 'from',\n",
       " 'global',\n",
       " 'if',\n",
       " 'import',\n",
       " 'in',\n",
       " 'is',\n",
       " 'lambda',\n",
       " 'nonlocal',\n",
       " 'not',\n",
       " 'or',\n",
       " 'pass',\n",
       " 'raise',\n",
       " 'return',\n",
       " 'try',\n",
       " 'while',\n",
       " 'with',\n",
       " 'yield']"
      ]
     },
     "execution_count": 18,
     "metadata": {},
     "output_type": "execute_result"
    }
   ],
   "source": [
    "import keyword\n",
    "keyword.kwlist"
   ]
  },
  {
   "cell_type": "code",
   "execution_count": 19,
   "metadata": {},
   "outputs": [
    {
     "data": {
      "text/plain": [
       "str"
      ]
     },
     "execution_count": 19,
     "metadata": {},
     "output_type": "execute_result"
    }
   ],
   "source": [
    "type('True')"
   ]
  },
  {
   "cell_type": "code",
   "execution_count": 20,
   "metadata": {},
   "outputs": [
    {
     "data": {
      "text/plain": [
       "bool"
      ]
     },
     "execution_count": 20,
     "metadata": {},
     "output_type": "execute_result"
    }
   ],
   "source": [
    "type(True)"
   ]
  },
  {
   "cell_type": "markdown",
   "metadata": {},
   "source": [
    "### bool() 함수의 동작 원리\n",
    "bool(x) 함수는 <b>\"참/거짓을 판단하는 함수\"</b>야.\n",
    "여기서 중요한 규칙이 있어:\n",
    "- 0, 빈 값 (None, \"\", [], {}, set(), 0.0, 0j) → False\n",
    "- 그 외의 모든 값 → True"
   ]
  },
  {
   "cell_type": "code",
   "execution_count": 21,
   "metadata": {},
   "outputs": [
    {
     "data": {
      "text/plain": [
       "True"
      ]
     },
     "execution_count": 21,
     "metadata": {},
     "output_type": "execute_result"
    }
   ],
   "source": [
    "bool(2)"
   ]
  },
  {
   "cell_type": "code",
   "execution_count": 22,
   "metadata": {},
   "outputs": [
    {
     "data": {
      "text/plain": [
       "True"
      ]
     },
     "execution_count": 22,
     "metadata": {},
     "output_type": "execute_result"
    }
   ],
   "source": [
    "bool('Hello')"
   ]
  },
  {
   "cell_type": "code",
   "execution_count": 23,
   "metadata": {},
   "outputs": [
    {
     "data": {
      "text/plain": [
       "False"
      ]
     },
     "execution_count": 23,
     "metadata": {},
     "output_type": "execute_result"
    }
   ],
   "source": [
    "bool('')"
   ]
  },
  {
   "cell_type": "code",
   "execution_count": 24,
   "metadata": {},
   "outputs": [
    {
     "data": {
      "text/plain": [
       "str"
      ]
     },
     "execution_count": 24,
     "metadata": {},
     "output_type": "execute_result"
    }
   ],
   "source": [
    "hello = 'True'\n",
    "type(hello)"
   ]
  },
  {
   "cell_type": "code",
   "execution_count": 25,
   "metadata": {},
   "outputs": [
    {
     "data": {
      "text/plain": [
       "bool"
      ]
     },
     "execution_count": 25,
     "metadata": {},
     "output_type": "execute_result"
    }
   ],
   "source": [
    "type(bool(hello))"
   ]
  },
  {
   "cell_type": "code",
   "execution_count": 26,
   "metadata": {},
   "outputs": [
    {
     "data": {
      "text/plain": [
       "bool"
      ]
     },
     "execution_count": 26,
     "metadata": {},
     "output_type": "execute_result"
    }
   ],
   "source": [
    "type(True)"
   ]
  },
  {
   "cell_type": "code",
   "execution_count": 27,
   "metadata": {},
   "outputs": [
    {
     "name": "stdout",
     "output_type": "stream",
     "text": [
      "합 :  7\n",
      "차 :  -1\n",
      "곱 :  12\n",
      "나누기 :  0.75\n",
      "몫 :  0\n",
      "나머지 :  3\n"
     ]
    }
   ],
   "source": [
    "## 미션1\n",
    "a = 3\n",
    "b = 4\n",
    "\n",
    "# ToDo: 합, 차, 곱, 나눗셈, 몫, 나머지를 출력해주세요\n",
    "\n",
    "print('합 : ', a+b)\n",
    "print('차 : ', a-b)\n",
    "print('곱 : ', a*b)\n",
    "print('나누기 : ', a/b)\n",
    "print('몫 : ', a//b)\n",
    "print('나머지 : ', a%b)"
   ]
  },
  {
   "cell_type": "code",
   "execution_count": 34,
   "metadata": {},
   "outputs": [
    {
     "name": "stdout",
     "output_type": "stream",
     "text": [
      "7 5 6 8\n"
     ]
    }
   ],
   "source": [
    "n = 7568\n",
    "\n",
    "# ToDo: 각자리의 숫자를 추출해서 출력하고 싶어요 도와주세요\n",
    "\n",
    "d1000 = n//1000\n",
    "d100 = (n%1000)//100\n",
    "d10 = ((n%1000)%100)//10\n",
    "d1 = (((n%1000)%100)%10)//1\n",
    "\n",
    "print(d1000, d100, d10, d1)"
   ]
  },
  {
   "cell_type": "code",
   "execution_count": 36,
   "metadata": {},
   "outputs": [
    {
     "name": "stdout",
     "output_type": "stream",
     "text": [
      "12345600\n"
     ]
    }
   ],
   "source": [
    "# 업그레이드미션 1\n",
    "pay = 12345678 # 12345678원\n",
    "\n",
    "#Todo: 100미만 절사 처리해주세요! 출력예시: 12345600\n",
    "\n",
    "r = (pay//100)*100\n",
    "\n",
    "print(r)"
   ]
  },
  {
   "cell_type": "code",
   "execution_count": null,
   "metadata": {},
   "outputs": [
    {
     "name": "stdout",
     "output_type": "stream",
     "text": [
      "4\n"
     ]
    }
   ],
   "source": [
    "# 업그레이드미션 2\n",
    "# Todo: 변수 a에 저장된 값의 b자리 값을 계산하여 변수 c에 저장하는 코드를 설계하라\n",
    "#예를 들어 a에 1234가 저장되어 있고 b가 1일 경우 첫 번째 자리값인 4가 c에 저장된다.\n",
    "#a가 1234일때 b가 4일 경우는 4번째 자리값인 1이 c에 저장되어야 한다.\n",
    "\n",
    "a = 1234\n",
    "b = 1\n",
    "#출력예시: b가 1이면 4, b가 3이면 2\n",
    "c = a // 10 ** (b-1)%10\n",
    "print(c)"
   ]
  },
  {
   "cell_type": "markdown",
   "metadata": {},
   "source": [
    "### 문자열 자료형"
   ]
  },
  {
   "cell_type": "code",
   "execution_count": 1,
   "metadata": {},
   "outputs": [
    {
     "name": "stdout",
     "output_type": "stream",
     "text": [
      "The Zen of Python, by Tim Peters\n",
      "\n",
      "Beautiful is better than ugly.\n",
      "Explicit is better than implicit.\n",
      "Simple is better than complex.\n",
      "Complex is better than complicated.\n",
      "Flat is better than nested.\n",
      "Sparse is better than dense.\n",
      "Readability counts.\n",
      "Special cases aren't special enough to break the rules.\n",
      "Although practicality beats purity.\n",
      "Errors should never pass silently.\n",
      "Unless explicitly silenced.\n",
      "In the face of ambiguity, refuse the temptation to guess.\n",
      "There should be one-- and preferably only one --obvious way to do it.\n",
      "Although that way may not be obvious at first unless you're Dutch.\n",
      "Now is better than never.\n",
      "Although never is often better than *right* now.\n",
      "If the implementation is hard to explain, it's a bad idea.\n",
      "If the implementation is easy to explain, it may be a good idea.\n",
      "Namespaces are one honking great idea -- let's do more of those!\n"
     ]
    }
   ],
   "source": [
    "import this"
   ]
  },
  {
   "cell_type": "code",
   "execution_count": 2,
   "metadata": {},
   "outputs": [
    {
     "data": {
      "text/plain": [
       "'Hello'"
      ]
     },
     "execution_count": 2,
     "metadata": {},
     "output_type": "execute_result"
    }
   ],
   "source": [
    "'Hello'"
   ]
  },
  {
   "cell_type": "code",
   "execution_count": 3,
   "metadata": {},
   "outputs": [
    {
     "name": "stdout",
     "output_type": "stream",
     "text": [
      "\n",
      "Hello\n",
      "Hello\n",
      "    Hello\n",
      "Hello\n",
      "HelloHello\n",
      "\n"
     ]
    }
   ],
   "source": [
    "# 주석\n",
    "multiline = '''\n",
    "Hello\n",
    "Hello\n",
    "    Hello\n",
    "Hello\n",
    "HelloHello\n",
    "'''\n",
    "\n",
    "print(multiline)"
   ]
  },
  {
   "cell_type": "code",
   "execution_count": 6,
   "metadata": {},
   "outputs": [
    {
     "data": {
      "text/plain": [
       "'PythonHello'"
      ]
     },
     "execution_count": 6,
     "metadata": {},
     "output_type": "execute_result"
    }
   ],
   "source": [
    "head = \"Python\"\n",
    "tail = \"Hello\"\n",
    "head+tail"
   ]
  },
  {
   "cell_type": "code",
   "execution_count": 7,
   "metadata": {},
   "outputs": [
    {
     "data": {
      "text/plain": [
       "'PythonPythonPython'"
      ]
     },
     "execution_count": 7,
     "metadata": {},
     "output_type": "execute_result"
    }
   ],
   "source": [
    "head*3"
   ]
  },
  {
   "cell_type": "code",
   "execution_count": 8,
   "metadata": {},
   "outputs": [
    {
     "data": {
      "text/plain": [
       "6"
      ]
     },
     "execution_count": 8,
     "metadata": {},
     "output_type": "execute_result"
    }
   ],
   "source": [
    "len(head)"
   ]
  },
  {
   "cell_type": "code",
   "execution_count": 9,
   "metadata": {},
   "outputs": [],
   "source": [
    "samplestring = \"Life is too short\""
   ]
  },
  {
   "cell_type": "code",
   "execution_count": 10,
   "metadata": {},
   "outputs": [
    {
     "data": {
      "text/plain": [
       "'Lesosr'"
      ]
     },
     "execution_count": 10,
     "metadata": {},
     "output_type": "execute_result"
    }
   ],
   "source": [
    "samplestring[::3]"
   ]
  },
  {
   "cell_type": "code",
   "execution_count": 12,
   "metadata": {},
   "outputs": [
    {
     "data": {
      "text/plain": [
       "17"
      ]
     },
     "execution_count": 12,
     "metadata": {},
     "output_type": "execute_result"
    }
   ],
   "source": [
    "len(samplestring)"
   ]
  },
  {
   "cell_type": "code",
   "execution_count": 13,
   "metadata": {},
   "outputs": [
    {
     "name": "stdout",
     "output_type": "stream",
     "text": [
      "too\n"
     ]
    }
   ],
   "source": [
    "print(samplestring[8]+samplestring[9]+samplestring[10])"
   ]
  },
  {
   "cell_type": "markdown",
   "metadata": {},
   "source": [
    "### Escape Sequence"
   ]
  },
  {
   "cell_type": "code",
   "execution_count": 14,
   "metadata": {},
   "outputs": [
    {
     "name": "stdout",
     "output_type": "stream",
     "text": [
      "어머님은'짜장면'이 싫다고 하셨어.\n"
     ]
    }
   ],
   "source": [
    "print('어머님은\\'짜장면\\'이 싫다고 하셨어.')"
   ]
  },
  {
   "cell_type": "code",
   "execution_count": 15,
   "metadata": {},
   "outputs": [
    {
     "name": "stdout",
     "output_type": "stream",
     "text": [
      "어머님은 \n",
      "짜장면이 싫다고 하셨어\n"
     ]
    }
   ],
   "source": [
    "print('어머님은 \\n짜장면이 싫다고 하셨어')"
   ]
  },
  {
   "cell_type": "markdown",
   "metadata": {},
   "source": [
    "### 사용자 입력"
   ]
  },
  {
   "cell_type": "code",
   "execution_count": null,
   "metadata": {},
   "outputs": [
    {
     "name": "stdout",
     "output_type": "stream",
     "text": [
      "<class 'str'>\n",
      "당신의 이름은April입니다.\n"
     ]
    }
   ],
   "source": [
    "name = input('이름을 입력하세요 : ') # April 입력력\n",
    "\n",
    "print(type(name))\n",
    "# num = int(name)\n",
    "# print(type(num))\n",
    "\n",
    "print('당신의 이름은' + name + '입니다.')"
   ]
  },
  {
   "cell_type": "code",
   "execution_count": 20,
   "metadata": {},
   "outputs": [
    {
     "name": "stdout",
     "output_type": "stream",
     "text": [
      "10 + 20 = 30\n"
     ]
    }
   ],
   "source": [
    "## 미션\n",
    "# 사용자로부터 두개의 정수를 입력 받아서\n",
    "# 덧셈을 출력하는 프로그램을 만들어주세요\n",
    "# 10, 20\n",
    "# -> 30\n",
    "\n",
    "num1 = int(input('정수1를 입력하세요 : '))\n",
    "num2 = int(input('정수2를 입력하세요 : '))\n",
    "\n",
    "print(num1, '+', num2, '=', num1+num2)"
   ]
  },
  {
   "cell_type": "code",
   "execution_count": 23,
   "metadata": {},
   "outputs": [
    {
     "name": "stdout",
     "output_type": "stream",
     "text": [
      "삼각형의 넓이 :  18.375\n"
     ]
    }
   ],
   "source": [
    "# 업그레이드미션 1\n",
    "\n",
    "# 삼각형의 넓이 구하기\n",
    "# 사용자에게 삼각형의 밑변과 높이를 입력 받아 \n",
    "# 삼각형의 넓이를 출력하는 코드를 작성하세요.\n",
    "# 10.5, 3.5\n",
    "\n",
    "w = float(input('밑변 : '))\n",
    "h = float(input('높이 : '))\n",
    "\n",
    "result = (w*h)/2\n",
    "print('삼각형의 넓이 : ',result)"
   ]
  },
  {
   "cell_type": "code",
   "execution_count": 27,
   "metadata": {},
   "outputs": [
    {
     "name": "stdout",
     "output_type": "stream",
     "text": [
      "지불하실 금액은 14500원 입니다.\n"
     ]
    }
   ],
   "source": [
    "# 업그레이드미션 2\n",
    "\n",
    "# 분식줍 주문 프로그램\n",
    "# 메뉴판은 아래와 같다.\n",
    "# 메뉴별 주문 개수를 입력 받아 지불할 금액을 자동으로 계산해주는 프로그램을 작성하시오.\n",
    "# [메뉴판]\n",
    "\n",
    "# 김  밥 : 3,000원\n",
    "# 떡볶이 : 3,500원\n",
    "# 라  면 : 2,500원\n",
    "\n",
    "# 주문 수량\n",
    "# 깁밥 2개, 떡볶이 1개, 라면 2개\n",
    "\n",
    "\n",
    "kb_price = 3000   # 김밥가격\n",
    "tbk_price = 3500  # 떡볶이 가격\n",
    "rm_price = 2500   # 라면 가격\n",
    "\n",
    "kb_cnt = int(input('김밥 주문 갯수 : '))\n",
    "tbk_cnt = int(input('떡볶이 주문 갯수 : '))\n",
    "rm_cnt = int(input('라면 주문 갯수'))\n",
    "\n",
    "total = kb_price*kb_cnt + tbk_price*tbk_cnt + rm_price*rm_cnt\n",
    "print(f'지불하실 금액은 {total}원 입니다.')"
   ]
  },
  {
   "cell_type": "code",
   "execution_count": 28,
   "metadata": {},
   "outputs": [
    {
     "name": "stdout",
     "output_type": "stream",
     "text": [
      "입력하신 반지름 : 2, 넓이 : 12.56\n"
     ]
    }
   ],
   "source": [
    "r = int(input())\n",
    "\n",
    "print(f'입력하신 반지름 : {r}, 넓이 : {3.14*r*r}')"
   ]
  },
  {
   "cell_type": "markdown",
   "metadata": {},
   "source": [
    "### 조건문"
   ]
  },
  {
   "cell_type": "code",
   "execution_count": 29,
   "metadata": {},
   "outputs": [],
   "source": [
    "money = False\n",
    "\n",
    "if money:\n",
    "    print('영화보기')\n",
    "    print('맛있는거 먹기')"
   ]
  },
  {
   "cell_type": "code",
   "execution_count": 30,
   "metadata": {},
   "outputs": [
    {
     "name": "stdout",
     "output_type": "stream",
     "text": [
      "영화보기\n",
      "맛있는거 먹기\n"
     ]
    }
   ],
   "source": [
    "money = True\n",
    "if money:\n",
    "    print('영화보기')\n",
    "    print('맛있는거 먹기')"
   ]
  },
  {
   "cell_type": "code",
   "execution_count": 32,
   "metadata": {},
   "outputs": [
    {
     "name": "stdout",
     "output_type": "stream",
     "text": [
      "True\n",
      "This is test\n",
      "6\n",
      "This is test\n"
     ]
    }
   ],
   "source": [
    "result = 10>4\n",
    "print(result)\n",
    "\n",
    "if result:\n",
    "    print(\"This is test\")\n",
    "\n",
    "result = 10 - 4\n",
    "print(result)\n",
    "\n",
    "if result:\n",
    "    print(\"This is test\")"
   ]
  },
  {
   "cell_type": "code",
   "execution_count": 33,
   "metadata": {},
   "outputs": [
    {
     "name": "stdout",
     "output_type": "stream",
     "text": [
      "맛난거 먹기\n",
      "냠냠 맛있다.\n"
     ]
    }
   ],
   "source": [
    "money = 10-4\n",
    "\n",
    "if money:\n",
    "    print('맛난거 먹기')\n",
    "else :\n",
    "    print('친구한테 얻어먹기')\n",
    "\n",
    "print('냠냠 맛있다.')"
   ]
  },
  {
   "cell_type": "code",
   "execution_count": 34,
   "metadata": {},
   "outputs": [
    {
     "name": "stdout",
     "output_type": "stream",
     "text": [
      "홀수입니다.\n"
     ]
    }
   ],
   "source": [
    "a = 3\n",
    "money = a%2\n",
    "\n",
    "if money:\n",
    "    print('홀수입니다.')\n",
    "else :\n",
    "    print('짝수입니다.')"
   ]
  },
  {
   "cell_type": "code",
   "execution_count": 35,
   "metadata": {},
   "outputs": [
    {
     "name": "stdout",
     "output_type": "stream",
     "text": [
      "목요일에 구매 가능합니다.\n"
     ]
    }
   ],
   "source": [
    "# 도전\n",
    "\n",
    "endbirthyear = int(input('출생 연도 끝자리 입력 : '))\n",
    "age = int(input('나이 입력 : '))\n",
    "\n",
    "if age < 65:\n",
    "    if endbirthyear == 1 or endbirthyear == 6:\n",
    "        print('월요일에 구매 가능합니다.')\n",
    "    elif endbirthyear == 2 or endbirthyear == 7:\n",
    "        print('화요일에 구매 가능합니다.')\n",
    "    elif endbirthyear == 3 or endbirthyear == 8:\n",
    "        print('수요일에 구매 가능합니다.')\n",
    "    elif endbirthyear == 4 or endbirthyear == 9:\n",
    "        print('목요일에 구매 가능합니다.')\n",
    "    elif endbirthyear == 5 or endbirthyear == 0:\n",
    "        print('금요일에 구매 가능합니다.')\n",
    "else :\n",
    "    print('언제든지 구매 가능합니다.')"
   ]
  },
  {
   "cell_type": "code",
   "execution_count": 38,
   "metadata": {},
   "outputs": [
    {
     "name": "stdout",
     "output_type": "stream",
     "text": [
      "짝수 차량 운행날 입니다.\n",
      "운행이 불가능합니다.\n"
     ]
    }
   ],
   "source": [
    "# 도전2\n",
    "\n",
    "day = int(input('오늘은 몇 일? (1~31) : '))\n",
    "\n",
    "if 1 <= day <= 31 :\n",
    "    carNum = input('차량번호 4자리 입력하세요 (예:1234) : ')\n",
    "\n",
    "    if len(carNum) == 4:\n",
    "        if day % 2 == 0:\n",
    "            print('짝수 차량 운행날 입니다.')\n",
    "            if int(carNum)%2 == 0 :\n",
    "                print('운행 가능합니다.')\n",
    "            else:\n",
    "                print('운행이 불가능합니다.')\n",
    "        if day % 2 != 0 :\n",
    "            print('홀수 차량 운행날 입니다.')\n",
    "            if int(carNum)%2 != 0:\n",
    "                print('운행 가능합니다.')\n",
    "            else :\n",
    "                print('운행 불가능 합니다.')\n",
    "    else:\n",
    "        print('차량번호 입력이 잘못되었습니다.')\n",
    "else:\n",
    "    print('일(Day) 입력이 잘못되었습니다.')"
   ]
  },
  {
   "cell_type": "code",
   "execution_count": 39,
   "metadata": {},
   "outputs": [
    {
     "name": "stdout",
     "output_type": "stream",
     "text": [
      "BMI 지수는 \"24.14'로 '과체중' 입니다.\n"
     ]
    }
   ],
   "source": [
    "# 도전3\n",
    "\n",
    "height = int(input('키 입력 (cm) : '))\n",
    "weight = int(input('몸무게 입력 (kg) :'))\n",
    "\n",
    "height = height/100 # m 로 계산\n",
    "bmi = weight / (height*height) # bmi계산\n",
    "\n",
    "if bmi >= 25 :\n",
    "    check = \"비만\"\n",
    "elif bmi >= 23 :\n",
    "    check = \"과체중\"\n",
    "elif bmi >= 18.5 :\n",
    "    check = \"정상체중\"\n",
    "else:\n",
    "    check = \"저체중\"\n",
    "\n",
    "print(f'BMI 지수는 \\\"{bmi:.2f}\\'로 \\'{check}\\' 입니다.')"
   ]
  },
  {
   "cell_type": "code",
   "execution_count": 1,
   "metadata": {},
   "outputs": [
    {
     "name": "stdout",
     "output_type": "stream",
     "text": [
      "April님 안녕하세요 ?\n",
      "오늘로 4회 방문하셨어요.\n"
     ]
    }
   ],
   "source": [
    "name = input('이름을 입력하세요 : ')\n",
    "num = input('방문 횟수를 입력하세요 : ')\n",
    "\n",
    "print(f'{name}님 안녕하세요 ?')\n",
    "print(f'오늘로 {int(num)+1}회 방문하셨어요.')"
   ]
  },
  {
   "cell_type": "code",
   "execution_count": 2,
   "metadata": {},
   "outputs": [
    {
     "name": "stdout",
     "output_type": "stream",
     "text": [
      "남자\n"
     ]
    }
   ],
   "source": [
    "# 성별, 출생년도, 월, 일, 생년월일, 주민등록번호 뒷자리등 원하는 내용 잘라오기\n",
    "# 문자열의 인덱싱과 슬라이싱\n",
    "\n",
    "jumin = '951013-1234567'\n",
    "\n",
    "if jumin[7] == '1':\n",
    "    print('남자')\n",
    "else :\n",
    "    print('여자자')"
   ]
  },
  {
   "cell_type": "code",
   "execution_count": 3,
   "metadata": {},
   "outputs": [
    {
     "name": "stdout",
     "output_type": "stream",
     "text": [
      "성별1\n",
      "출생연도 : 95\n",
      "주민등록번호 뒷자리 : 1234567\n"
     ]
    }
   ],
   "source": [
    "print('성별' + jumin[7])\n",
    "print('출생연도 : ' + jumin[:2])\n",
    "print('주민등록번호 뒷자리 : ' + jumin[-7:])"
   ]
  },
  {
   "cell_type": "code",
   "execution_count": 4,
   "metadata": {},
   "outputs": [
    {
     "name": "stdout",
     "output_type": "stream",
     "text": [
      "역삼역 도어읽 로꾸거 역삼역 도어읽 로으앞 .다니입역삼역 ,역삼역 은역번이 \n"
     ]
    }
   ],
   "source": [
    "# 떠올리기 업그레이드 미션\n",
    "string = \" 이번역은 역삼역, 역삼역입니다. 앞으로 읽어도 역삼역 거꾸로 읽어도 역삼역\"\n",
    "\n",
    "# ToDo: YOUR_CODE_HERE\n",
    "#-> 역삼역 도어읽 로꾸거 역삼역 도어읽 로으앞 .다니입역삼역 ,역삼역 은역번이\n",
    "print(string[::-1])"
   ]
  },
  {
   "cell_type": "code",
   "execution_count": 7,
   "metadata": {},
   "outputs": [
    {
     "name": "stdout",
     "output_type": "stream",
     "text": [
      "로그인 성공\n"
     ]
    }
   ],
   "source": [
    "# 떠올리기 3 - 로그인 시스템 구현하기\n",
    "user_id = 'admin'\n",
    "user_pw = '1234'\n",
    "\n",
    "# ToDo: YOUR_CODE_HERE\n",
    "input_id = input('아이디를 입력하세요 : ')\n",
    "input_pwd = input('비밀번호를 입력하세요 : ')\n",
    "\n",
    "if user_id == input_id and user_pw == input_pwd :\n",
    "    print('로그인 성공')\n",
    "else :\n",
    "    print('로그인 실패')"
   ]
  },
  {
   "cell_type": "code",
   "execution_count": 10,
   "metadata": {},
   "outputs": [
    {
     "name": "stdout",
     "output_type": "stream",
     "text": [
      "2\n",
      "여자\n"
     ]
    }
   ],
   "source": [
    "jumin = '951013-2234567'\n",
    "print(jumin[7])\n",
    "\n",
    "if jumin[7] == '1' or jumin[7] == '3':\n",
    "    print('남자')\n",
    "else:\n",
    "    print('여자')"
   ]
  },
  {
   "cell_type": "code",
   "execution_count": 11,
   "metadata": {},
   "outputs": [
    {
     "name": "stdout",
     "output_type": "stream",
     "text": [
      "여자\n"
     ]
    }
   ],
   "source": [
    "if False:\n",
    "    print('남자')\n",
    "else:\n",
    "    print('여자')"
   ]
  }
 ],
 "metadata": {
  "kernelspec": {
   "display_name": "venv",
   "language": "python",
   "name": "python3"
  },
  "language_info": {
   "codemirror_mode": {
    "name": "ipython",
    "version": 3
   },
   "file_extension": ".py",
   "mimetype": "text/x-python",
   "name": "python",
   "nbconvert_exporter": "python",
   "pygments_lexer": "ipython3",
   "version": "3.12.7"
  }
 },
 "nbformat": 4,
 "nbformat_minor": 2
}
