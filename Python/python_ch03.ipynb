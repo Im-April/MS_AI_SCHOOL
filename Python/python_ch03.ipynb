{
 "cells": [
  {
   "cell_type": "code",
   "execution_count": 1,
   "metadata": {},
   "outputs": [
    {
     "name": "stdout",
     "output_type": "stream",
     "text": [
      "2 4 6 8 10 12 14 16 18 \n",
      "3 6 9 12 15 18 21 24 27 \n",
      "4 8 12 16 20 24 28 32 36 \n",
      "5 10 15 20 25 30 35 40 45 \n",
      "6 12 18 24 30 36 42 48 54 \n",
      "7 14 21 28 35 42 49 56 63 \n",
      "8 16 24 32 40 48 56 64 72 \n",
      "9 18 27 36 45 54 63 72 81 \n"
     ]
    }
   ],
   "source": [
    "for dan in range(2,10):\n",
    "    for su in range(1,10):\n",
    "        print(dan*su, end=' ')\n",
    "    print()"
   ]
  },
  {
   "cell_type": "code",
   "execution_count": 2,
   "metadata": {},
   "outputs": [
    {
     "name": "stdout",
     "output_type": "stream",
     "text": [
      "거스름돈 200원을 주고 커피를 줍니다.\n",
      "거스름돈 200원을 주고 커피를 줍니다.\n",
      "돈을 다시 돌려주고 커피를 주지 않습니다.\n",
      "남은 커피의 양은 8개 입니다.\n",
      "거스름돈 700원을 주고 커피를 줍니다.\n",
      "거스름돈 400원을 주고 커피를 줍니다.\n",
      "거스름돈 100원을 주고 커피를 줍니다.\n",
      "거스름돈 9700원을 주고 커피를 줍니다.\n",
      "커피를 줍니다.\n",
      "거스름돈 500원을 주고 커피를 줍니다.\n",
      "거스름돈 1700원을 주고 커피를 줍니다.\n",
      "거스름돈 400원을 주고 커피를 줍니다.\n",
      "커피가 다 떨어졌습니다. 판매를 중지 합니다.\n"
     ]
    }
   ],
   "source": [
    "coffee = 10\n",
    "\n",
    "while True:\n",
    "    money = int(input('돈을 넣어 주세요 : '))\n",
    "    if money == 300:\n",
    "        print(\"커피를 줍니다.\")\n",
    "        coffee -= 1\n",
    "    elif money > 300:\n",
    "        print(f'거스름돈 {money-300}원을 주고 커피를 줍니다.')\n",
    "        coffee -= 1\n",
    "    else:\n",
    "        print('돈을 다시 돌려주고 커피를 주지 않습니다.')\n",
    "        print(f'남은 커피의 양은 {coffee}개 입니다.')\n",
    "    if coffee == 0:\n",
    "        print('커피가 다 떨어졌습니다. 판매를 중지 합니다.')\n",
    "        break"
   ]
  },
  {
   "cell_type": "markdown",
   "metadata": {},
   "source": [
    "### 딕셔너리"
   ]
  },
  {
   "cell_type": "code",
   "execution_count": 21,
   "metadata": {},
   "outputs": [
    {
     "data": {
      "text/plain": [
       "{'김밥': 3000, '라면': 2000, '돈까스': 5000}"
      ]
     },
     "execution_count": 21,
     "metadata": {},
     "output_type": "execute_result"
    }
   ],
   "source": [
    "menu = {\n",
    "    '김밥':2000,\n",
    "    '라면':2000,\n",
    "    '돈까스':5000,\n",
    "    '김밥':3000\n",
    "}\n",
    "\n",
    "menu"
   ]
  },
  {
   "cell_type": "code",
   "execution_count": 22,
   "metadata": {},
   "outputs": [
    {
     "name": "stdout",
     "output_type": "stream",
     "text": [
      "<class 'dict'>\n"
     ]
    }
   ],
   "source": [
    "print(type(menu))"
   ]
  },
  {
   "cell_type": "code",
   "execution_count": 23,
   "metadata": {},
   "outputs": [
    {
     "data": {
      "text/plain": [
       "3000"
      ]
     },
     "execution_count": 23,
     "metadata": {},
     "output_type": "execute_result"
    }
   ],
   "source": [
    "menu['김밥']"
   ]
  },
  {
   "cell_type": "code",
   "execution_count": 24,
   "metadata": {},
   "outputs": [
    {
     "data": {
      "text/plain": [
       "{'김밥': 2500, '라면': 2000, '돈까스': 5000}"
      ]
     },
     "execution_count": 24,
     "metadata": {},
     "output_type": "execute_result"
    }
   ],
   "source": [
    "menu['김밥'] = 2500\n",
    "menu"
   ]
  },
  {
   "cell_type": "code",
   "execution_count": 25,
   "metadata": {},
   "outputs": [
    {
     "data": {
      "text/plain": [
       "{'김밥': 2500, '라면': 2000, '돈까스': 5000, '떡볶이': 3000}"
      ]
     },
     "execution_count": 25,
     "metadata": {},
     "output_type": "execute_result"
    }
   ],
   "source": [
    "menu['떡볶이'] = 3000\n",
    "menu"
   ]
  },
  {
   "cell_type": "code",
   "execution_count": 26,
   "metadata": {},
   "outputs": [
    {
     "data": {
      "text/plain": [
       "['김밥', '라면', '돈까스', '떡볶이']"
      ]
     },
     "execution_count": 26,
     "metadata": {},
     "output_type": "execute_result"
    }
   ],
   "source": [
    "list(menu.keys())"
   ]
  },
  {
   "cell_type": "code",
   "execution_count": 29,
   "metadata": {},
   "outputs": [
    {
     "data": {
      "text/plain": [
       "[2500, 2000, 5000, 3000]"
      ]
     },
     "execution_count": 29,
     "metadata": {},
     "output_type": "execute_result"
    }
   ],
   "source": [
    "list(menu.values())"
   ]
  },
  {
   "cell_type": "code",
   "execution_count": 30,
   "metadata": {},
   "outputs": [
    {
     "data": {
      "text/plain": [
       "[('김밥', 2500), ('라면', 2000), ('돈까스', 5000), ('떡볶이', 3000)]"
      ]
     },
     "execution_count": 30,
     "metadata": {},
     "output_type": "execute_result"
    }
   ],
   "source": [
    "list(menu.items())"
   ]
  },
  {
   "cell_type": "code",
   "execution_count": 32,
   "metadata": {},
   "outputs": [
    {
     "data": {
      "text/plain": [
       "['김밥', '라면', '돈까스', '떡볶이']"
      ]
     },
     "execution_count": 32,
     "metadata": {},
     "output_type": "execute_result"
    }
   ],
   "source": [
    "menus = list(menu.keys())\n",
    "menus"
   ]
  },
  {
   "cell_type": "code",
   "execution_count": 33,
   "metadata": {},
   "outputs": [
    {
     "name": "stdout",
     "output_type": "stream",
     "text": [
      "1 . 김밥\n",
      "2 . 라면\n",
      "3 . 돈까스\n"
     ]
    }
   ],
   "source": [
    "menus = ['김밥', '라면', '돈까스']\n",
    "\n",
    "for i in range(len(menus)):\n",
    "    print(i+1,'.',menus[i])"
   ]
  },
  {
   "cell_type": "code",
   "execution_count": 19,
   "metadata": {},
   "outputs": [
    {
     "name": "stdout",
     "output_type": "stream",
     "text": [
      "2500\n",
      "2000\n",
      "2000\n",
      "3000\n"
     ]
    }
   ],
   "source": [
    "for price in menu.values():\n",
    "    print(price)"
   ]
  },
  {
   "cell_type": "code",
   "execution_count": 34,
   "metadata": {},
   "outputs": [
    {
     "name": "stdout",
     "output_type": "stream",
     "text": [
      "('김밥', 2500)\n",
      "('라면', 2000)\n",
      "('돈까스', 5000)\n",
      "('떡볶이', 3000)\n"
     ]
    }
   ],
   "source": [
    "for price in menu.items():\n",
    "    print(price)"
   ]
  },
  {
   "cell_type": "code",
   "execution_count": 35,
   "metadata": {},
   "outputs": [
    {
     "data": {
      "text/plain": [
       "{'김밥': 2500, '라면': 2000, '돈까스': 5000, '떡볶이': 3000}"
      ]
     },
     "execution_count": 35,
     "metadata": {},
     "output_type": "execute_result"
    }
   ],
   "source": [
    "menu"
   ]
  },
  {
   "cell_type": "code",
   "execution_count": 36,
   "metadata": {},
   "outputs": [
    {
     "data": {
      "text/plain": [
       "2500"
      ]
     },
     "execution_count": 36,
     "metadata": {},
     "output_type": "execute_result"
    }
   ],
   "source": [
    "menu.pop('김밥')"
   ]
  },
  {
   "cell_type": "code",
   "execution_count": 39,
   "metadata": {},
   "outputs": [
    {
     "data": {
      "text/plain": [
       "('떡볶이', 3000)"
      ]
     },
     "execution_count": 39,
     "metadata": {},
     "output_type": "execute_result"
    }
   ],
   "source": [
    "menu.popitem()"
   ]
  },
  {
   "cell_type": "code",
   "execution_count": 40,
   "metadata": {},
   "outputs": [
    {
     "data": {
      "text/plain": [
       "{'라면': 2000, '돈까스': 5000}"
      ]
     },
     "execution_count": 40,
     "metadata": {},
     "output_type": "execute_result"
    }
   ],
   "source": [
    "menu"
   ]
  },
  {
   "cell_type": "code",
   "execution_count": 41,
   "metadata": {},
   "outputs": [],
   "source": [
    "addrs = {\n",
    "    'name':2000,\n",
    "    'phone':3000,\n",
    "    'addr':5000\n",
    "\n",
    "}"
   ]
  },
  {
   "cell_type": "code",
   "execution_count": 42,
   "metadata": {},
   "outputs": [],
   "source": [
    "addrs_list = [{'amy':2000, 'phone':1111, 'addr':5123},\n",
    "              {'emma':3000, 'phone':2222, 'addr':5456},\n",
    "              {'hanni':4000, 'phone':3333, 'addr':5789}]"
   ]
  },
  {
   "cell_type": "code",
   "execution_count": 43,
   "metadata": {},
   "outputs": [
    {
     "data": {
      "text/plain": [
       "{'라면': 2000, '돈까스': 5000}"
      ]
     },
     "execution_count": 43,
     "metadata": {},
     "output_type": "execute_result"
    }
   ],
   "source": [
    "menu"
   ]
  },
  {
   "cell_type": "code",
   "execution_count": 44,
   "metadata": {},
   "outputs": [
    {
     "name": "stdout",
     "output_type": "stream",
     "text": [
      "라면 2000\n",
      "돈까스 5000\n"
     ]
    }
   ],
   "source": [
    "for key, value in menu.items():\n",
    "    print(key, value)"
   ]
  },
  {
   "cell_type": "code",
   "execution_count": 45,
   "metadata": {},
   "outputs": [
    {
     "name": "stdout",
     "output_type": "stream",
     "text": [
      "None\n"
     ]
    }
   ],
   "source": [
    "print(menu.get('김밥'))"
   ]
  },
  {
   "cell_type": "code",
   "execution_count": 46,
   "metadata": {},
   "outputs": [],
   "source": [
    "a_list = [3,'hello',[4,5,6],{'a':1, 'b':2}]"
   ]
  },
  {
   "cell_type": "code",
   "execution_count": 47,
   "metadata": {},
   "outputs": [],
   "source": [
    "addr_list = [{'name':'chris', 'phone':'010-1234-5678', 'addr':'안양시'},\n",
    "             {'name':'chris2', 'phone':'010-1234-5678', 'addr':'안양시'},\n",
    "             {'name':'chris3', 'phone':'010-1234-5678', 'addr':'안양시'}]\n",
    "\n"
   ]
  },
  {
   "cell_type": "markdown",
   "metadata": {},
   "source": [
    "### TODoList 만들기"
   ]
  },
  {
   "cell_type": "code",
   "execution_count": 48,
   "metadata": {},
   "outputs": [],
   "source": [
    "todolist = []"
   ]
  },
  {
   "cell_type": "code",
   "execution_count": 49,
   "metadata": {},
   "outputs": [
    {
     "data": {
      "text/plain": [
       "['할일']"
      ]
     },
     "execution_count": 49,
     "metadata": {},
     "output_type": "execute_result"
    }
   ],
   "source": [
    "todolist.append('할일')\n",
    "todolist"
   ]
  },
  {
   "cell_type": "code",
   "execution_count": 50,
   "metadata": {},
   "outputs": [
    {
     "data": {
      "text/plain": [
       "[]"
      ]
     },
     "execution_count": 50,
     "metadata": {},
     "output_type": "execute_result"
    }
   ],
   "source": [
    "todolist.remove('할일')\n",
    "todolist"
   ]
  },
  {
   "cell_type": "code",
   "execution_count": 60,
   "metadata": {},
   "outputs": [
    {
     "name": "stdout",
     "output_type": "stream",
     "text": [
      "메뉴선택 (1. 할일 추가, 2. 한일 삭제, 0. 종료)\n",
      "1\n",
      "메뉴선택 (1. 할일 추가, 2. 한일 삭제, 0. 종료)\n",
      "1\n",
      "메뉴선택 (1. 할일 추가, 2. 한일 삭제, 0. 종료)\n",
      "1\n",
      "메뉴선택 (1. 할일 추가, 2. 한일 삭제, 0. 종료)\n",
      "2\n",
      "메뉴선택 (1. 할일 추가, 2. 한일 삭제, 0. 종료)\n",
      "0\n",
      "프로그램을 종료합니다.\n",
      "1.토익\n",
      "2.마루 산책\n",
      "******************************\n"
     ]
    }
   ],
   "source": [
    "todolist = []\n",
    "\n",
    "while True:\n",
    "    print('메뉴선택 (1. 할일 추가, 2. 한일 삭제, 0. 종료)')\n",
    "    menu = int(input('메뉴선택(1. 할일 추가, 2. 한일 삭제, 0. 종료)? :'))\n",
    "    print(menu)\n",
    "\n",
    "    if menu == 1:\n",
    "        todolist.append(input('*할일 내용 입력 >>'))\n",
    "    elif menu == 2:\n",
    "        todolist.remove(input('*완료한 내용 입력 >>'))\n",
    "    elif menu == 0:\n",
    "        print('프로그램을 종료합니다.')\n",
    "        break\n",
    "    else:\n",
    "        print('잘못된 번호를 입력했습니다.')\n",
    "        continue\n",
    "\n",
    "\n",
    "for i in range(len(todolist)):\n",
    "    print(f'{i+1}.{todolist[i]}')\n",
    "print('*'*30)"
   ]
  },
  {
   "cell_type": "code",
   "execution_count": 64,
   "metadata": {},
   "outputs": [
    {
     "name": "stdout",
     "output_type": "stream",
     "text": [
      "메뉴 선택(1.추가, 2.검색, 0.종료)\n",
      "1\n",
      "메뉴 선택(1.추가, 2.검색, 0.종료)\n",
      "2\n",
      "전화번호부 목록 ['박지민', '전정국', '정호석', '김석진', '김남준', '김민혁']\n",
      "010-2222-2222\n",
      "메뉴 선택(1.추가, 2.검색, 0.종료)\n",
      "0\n",
      "프로그램을 종료합니다.\n"
     ]
    }
   ],
   "source": [
    "# 전화번호부 만들기\n",
    "addr = {\n",
    "    '박지민': '010-1111-1111', \n",
    "    '전정국': '010-2222-2222', \n",
    "    '정호석': '010-3333-3333', \n",
    "    '김석진': '010-4444-4444', \n",
    "    '김남준': '010-6666-6666', \n",
    "}\n",
    "\n",
    "while True :\n",
    "    print(f'메뉴 선택(1.추가, 2.검색, 0.종료)')\n",
    "    menu = int(input('메뉴선택(1. 추가, 2. 검색, 0. 종료)? :'))\n",
    "    print(menu)\n",
    "\n",
    "    if menu == 1:\n",
    "        addr_key = input('이름 입력 :')\n",
    "        addr_value = input('전화번호 입력 :')\n",
    "        addr[addr_key] = addr_value\n",
    "    elif menu == 2:\n",
    "        print('전화번호부 목록', list(addr.keys()))\n",
    "        name = input('검색할 친구 입력 : ')\n",
    "        if addr.get(name):\n",
    "            print(addr.get(name))\n",
    "        else:\n",
    "            print('목록에 없는 이름 입니다.')\n",
    "    elif menu == 0:\n",
    "        print('프로그램을 종료합니다.')\n",
    "        break\n",
    "    else:\n",
    "        print('잘못된 번호를 입력했습니다.')"
   ]
  },
  {
   "cell_type": "markdown",
   "metadata": {},
   "source": [
    "### 튜플"
   ]
  },
  {
   "cell_type": "code",
   "execution_count": 65,
   "metadata": {},
   "outputs": [],
   "source": [
    "t1 = ()"
   ]
  },
  {
   "cell_type": "code",
   "execution_count": 66,
   "metadata": {},
   "outputs": [
    {
     "data": {
      "text/plain": [
       "tuple"
      ]
     },
     "execution_count": 66,
     "metadata": {},
     "output_type": "execute_result"
    }
   ],
   "source": [
    "type(t1)"
   ]
  },
  {
   "cell_type": "code",
   "execution_count": 67,
   "metadata": {},
   "outputs": [
    {
     "name": "stdout",
     "output_type": "stream",
     "text": [
      "<class 'tuple'>\n"
     ]
    }
   ],
   "source": [
    "t2 = (1,)\n",
    "print(type(t2))"
   ]
  },
  {
   "cell_type": "code",
   "execution_count": 68,
   "metadata": {},
   "outputs": [
    {
     "name": "stdout",
     "output_type": "stream",
     "text": [
      "(1, 2, 3)\n"
     ]
    }
   ],
   "source": [
    "t3 = (1,2,3)\n",
    "print(t3)"
   ]
  },
  {
   "cell_type": "code",
   "execution_count": 69,
   "metadata": {},
   "outputs": [
    {
     "name": "stdout",
     "output_type": "stream",
     "text": [
      "<class 'tuple'>\n"
     ]
    }
   ],
   "source": [
    "t4 = 1,2,3\n",
    "\n",
    "print(type(t4))"
   ]
  },
  {
   "cell_type": "code",
   "execution_count": 70,
   "metadata": {},
   "outputs": [
    {
     "name": "stdout",
     "output_type": "stream",
     "text": [
      "<class 'tuple'>\n"
     ]
    }
   ],
   "source": [
    "t5 = ('a',1,('ab','cd'))\n",
    "print(type(t5))"
   ]
  },
  {
   "cell_type": "code",
   "execution_count": 71,
   "metadata": {},
   "outputs": [
    {
     "data": {
      "text/plain": [
       "(1, 2, 3, 4, 5)"
      ]
     },
     "execution_count": 71,
     "metadata": {},
     "output_type": "execute_result"
    }
   ],
   "source": [
    "(1,2,3) + (4,5)"
   ]
  },
  {
   "cell_type": "code",
   "execution_count": 72,
   "metadata": {},
   "outputs": [
    {
     "data": {
      "text/plain": [
       "(1, 2, 3, 1, 2, 3, 1, 2, 3)"
      ]
     },
     "execution_count": 72,
     "metadata": {},
     "output_type": "execute_result"
    }
   ],
   "source": [
    "(1,2,3)*3"
   ]
  },
  {
   "cell_type": "code",
   "execution_count": 73,
   "metadata": {},
   "outputs": [
    {
     "data": {
      "text/plain": [
       "[0, 1, 2, 3, 4]"
      ]
     },
     "execution_count": 73,
     "metadata": {},
     "output_type": "execute_result"
    }
   ],
   "source": [
    "list(range(5))"
   ]
  },
  {
   "cell_type": "code",
   "execution_count": 74,
   "metadata": {},
   "outputs": [
    {
     "data": {
      "text/plain": [
       "(0, 1, 2, 3, 4)"
      ]
     },
     "execution_count": 74,
     "metadata": {},
     "output_type": "execute_result"
    }
   ],
   "source": [
    "tuple(range(5))"
   ]
  },
  {
   "cell_type": "code",
   "execution_count": 75,
   "metadata": {},
   "outputs": [
    {
     "data": {
      "text/plain": [
       "range"
      ]
     },
     "execution_count": 75,
     "metadata": {},
     "output_type": "execute_result"
    }
   ],
   "source": [
    "type(range(5))"
   ]
  },
  {
   "cell_type": "markdown",
   "metadata": {},
   "source": [
    "### in 연산자"
   ]
  },
  {
   "cell_type": "code",
   "execution_count": null,
   "metadata": {},
   "outputs": [
    {
     "name": "stdout",
     "output_type": "stream",
     "text": [
      "홍시은 과일바구니에 있는 과일입니다.\n"
     ]
    }
   ],
   "source": [
    "fruits = ['사과','포도','홍시']\n",
    "\n",
    "user = input('과일 입력 : ')\n",
    "\n",
    "if user in fruits:\n",
    "    print(f'{user}은 과일바구니에 있는 과일입니다.')\n",
    "else:\n",
    "    print(f'{user}과은 일바구니에 없어 !!')"
   ]
  },
  {
   "cell_type": "code",
   "execution_count": 78,
   "metadata": {},
   "outputs": [
    {
     "name": "stdout",
     "output_type": "stream",
     "text": [
      "메뉴에 있습니다.\n"
     ]
    }
   ],
   "source": [
    "menu = {\n",
    "    '김밥':2000,\n",
    "    '라면':3000,\n",
    "    '돈까스':5000\n",
    "}\n",
    "\n",
    "user = input('메뉴 입력 : ')\n",
    "\n",
    "if user in menu:\n",
    "    print('메뉴에 있습니다.')\n",
    "else :\n",
    "    print('메뉴에 없습니다.')"
   ]
  },
  {
   "cell_type": "code",
   "execution_count": 79,
   "metadata": {},
   "outputs": [
    {
     "name": "stdout",
     "output_type": "stream",
     "text": [
      "Alice의 평균: 89.0\n",
      "Bob의 평균: 82.0\n",
      "Charlie의 평균: 92.0\n",
      "\n",
      "전체평균 : 87.66666666666667\n",
      "\n",
      "90점 이상인 학생명단 : ['Alice', 'Charlie']\n"
     ]
    }
   ],
   "source": [
    "# 학생들의 성적 데이터\n",
    "students = [\n",
    "    {'name': 'Alice', 'grades': [90, 85, 92]},\n",
    "    {'name': 'Bob', 'grades': [78, 80, 88]},\n",
    "    {'name': 'Charlie', 'grades': [95, 92, 89]}\n",
    "]\n",
    "# 각 학생의 평균 성적 출력\n",
    "for student in students:\n",
    "    name = student['name']\n",
    "    total_grades = 0\n",
    "    num_grades = 0\n",
    "    for grade in student['grades']:\n",
    "        total_grades += grade\n",
    "        num_grades += 1\n",
    "    average_grade = total_grades / num_grades\n",
    "    print(f\"{name}의 평균: {average_grade}\")\n",
    "\n",
    "# 전체 학생들의 평균 성적 계산\n",
    "total_grades_all_students = 0\n",
    "num_grades_all_students = 0\n",
    "\n",
    "for student in students:\n",
    "    total_grades_all_students += sum(student['grades'])\n",
    "    num_grades_all_students += len(student['grades'])\n",
    "average_all_students = total_grades_all_students / num_grades_all_students\n",
    "print(f\"\\n전체평균 : {average_all_students}\")\n",
    "\n",
    "# 성적이 90 이상인 학생들을 찾아서 출력\n",
    "high_grades_students = []\n",
    "for student in students:\n",
    "    if any(grade >= 90 for grade in student['grades']):\n",
    "        high_grades_students.append(student['name'])\n",
    "print(\"\\n90점 이상인 학생명단 :\", high_grades_students)"
   ]
  },
  {
   "cell_type": "markdown",
   "metadata": {},
   "source": [
    "### 내장함수"
   ]
  },
  {
   "cell_type": "code",
   "execution_count": 80,
   "metadata": {},
   "outputs": [
    {
     "name": "stdout",
     "output_type": "stream",
     "text": [
      "ArithmeticError\n",
      "AssertionError\n",
      "AttributeError\n",
      "BaseException\n",
      "BaseExceptionGroup\n",
      "BlockingIOError\n",
      "BrokenPipeError\n",
      "BufferError\n",
      "BytesWarning\n",
      "ChildProcessError\n",
      "ConnectionAbortedError\n",
      "ConnectionError\n",
      "ConnectionRefusedError\n",
      "ConnectionResetError\n",
      "DeprecationWarning\n",
      "EOFError\n",
      "Ellipsis\n",
      "EncodingWarning\n",
      "EnvironmentError\n",
      "Exception\n",
      "ExceptionGroup\n",
      "False\n",
      "FileExistsError\n",
      "FileNotFoundError\n",
      "FloatingPointError\n",
      "FutureWarning\n",
      "GeneratorExit\n",
      "IOError\n",
      "ImportError\n",
      "ImportWarning\n",
      "IndentationError\n",
      "IndexError\n",
      "InterruptedError\n",
      "IsADirectoryError\n",
      "KeyError\n",
      "KeyboardInterrupt\n",
      "LookupError\n",
      "MemoryError\n",
      "ModuleNotFoundError\n",
      "NameError\n",
      "None\n",
      "NotADirectoryError\n",
      "NotImplemented\n",
      "NotImplementedError\n",
      "OSError\n",
      "OverflowError\n",
      "PendingDeprecationWarning\n",
      "PermissionError\n",
      "ProcessLookupError\n",
      "RecursionError\n",
      "ReferenceError\n",
      "ResourceWarning\n",
      "RuntimeError\n",
      "RuntimeWarning\n",
      "StopAsyncIteration\n",
      "StopIteration\n",
      "SyntaxError\n",
      "SyntaxWarning\n",
      "SystemError\n",
      "SystemExit\n",
      "TabError\n",
      "TimeoutError\n",
      "True\n",
      "TypeError\n",
      "UnboundLocalError\n",
      "UnicodeDecodeError\n",
      "UnicodeEncodeError\n",
      "UnicodeError\n",
      "UnicodeTranslateError\n",
      "UnicodeWarning\n",
      "UserWarning\n",
      "ValueError\n",
      "Warning\n",
      "WindowsError\n",
      "ZeroDivisionError\n",
      "__IPYTHON__\n",
      "__build_class__\n",
      "__debug__\n",
      "__doc__\n",
      "__import__\n",
      "__loader__\n",
      "__name__\n",
      "__package__\n",
      "__spec__\n",
      "abs\n",
      "aiter\n",
      "all\n",
      "anext\n",
      "any\n",
      "ascii\n",
      "bin\n",
      "bool\n",
      "breakpoint\n",
      "bytearray\n",
      "bytes\n",
      "callable\n",
      "chr\n",
      "classmethod\n",
      "compile\n",
      "complex\n",
      "copyright\n",
      "credits\n",
      "delattr\n",
      "dict\n",
      "dir\n",
      "display\n",
      "divmod\n",
      "enumerate\n",
      "eval\n",
      "exec\n",
      "execfile\n",
      "filter\n",
      "float\n",
      "format\n",
      "frozenset\n",
      "get_ipython\n",
      "getattr\n",
      "globals\n",
      "hasattr\n",
      "hash\n",
      "help\n",
      "hex\n",
      "id\n",
      "input\n",
      "int\n",
      "isinstance\n",
      "issubclass\n",
      "iter\n",
      "len\n",
      "license\n",
      "list\n",
      "locals\n",
      "map\n",
      "max\n",
      "memoryview\n",
      "min\n",
      "next\n",
      "object\n",
      "oct\n",
      "open\n",
      "ord\n",
      "pow\n",
      "print\n",
      "property\n",
      "range\n",
      "repr\n",
      "reversed\n",
      "round\n",
      "runfile\n",
      "set\n",
      "setattr\n",
      "slice\n",
      "sorted\n",
      "staticmethod\n",
      "str\n",
      "sum\n",
      "super\n",
      "tuple\n",
      "type\n",
      "vars\n",
      "zip\n"
     ]
    }
   ],
   "source": [
    "for i in dir(__builtins__):\n",
    "    print(i)"
   ]
  },
  {
   "cell_type": "markdown",
   "metadata": {},
   "source": [
    "### 사용자 지정 함수"
   ]
  },
  {
   "cell_type": "code",
   "execution_count": 82,
   "metadata": {},
   "outputs": [],
   "source": [
    "def NameHi(name):\n",
    "    print(f'{name}야 ~ Hi')"
   ]
  },
  {
   "cell_type": "code",
   "execution_count": 83,
   "metadata": {},
   "outputs": [
    {
     "name": "stdout",
     "output_type": "stream",
     "text": [
      "Chris야 ~ Hi\n",
      "April야 ~ Hi\n",
      "김수현야 ~ Hi\n"
     ]
    }
   ],
   "source": [
    "NameHi('Chris')\n",
    "NameHi('April')\n",
    "NameHi('김수현')"
   ]
  },
  {
   "cell_type": "code",
   "execution_count": 84,
   "metadata": {},
   "outputs": [
    {
     "name": "stdout",
     "output_type": "stream",
     "text": [
      "Hi\n"
     ]
    }
   ],
   "source": [
    "def HiReturn():\n",
    "    return 'Hi'\n",
    "\n",
    "b = HiReturn()\n",
    "print(b)"
   ]
  },
  {
   "cell_type": "code",
   "execution_count": 85,
   "metadata": {},
   "outputs": [],
   "source": [
    "def num_max(num1,num2,num3):\n",
    "    max_val = num1\n",
    "    # if num1>max_val:\n",
    "    #     max_val = num1\n",
    "    if num2>max_val:\n",
    "        max_val = num2\n",
    "    if num3>max_val:\n",
    "        max_val = num3\n",
    "    return max_val"
   ]
  },
  {
   "cell_type": "code",
   "execution_count": 86,
   "metadata": {},
   "outputs": [
    {
     "name": "stdout",
     "output_type": "stream",
     "text": [
      "hello\n",
      "-1\n"
     ]
    }
   ],
   "source": [
    "num = num_max(-1,-3,-5)\n",
    "print('hello')\n",
    "print(num)"
   ]
  },
  {
   "cell_type": "code",
   "execution_count": null,
   "metadata": {},
   "outputs": [],
   "source": [
    "def isLeapYear(year):\n",
    "    return (year%4 == 0) and (year % 100 != 100) or (year % 400 == 0)"
   ]
  },
  {
   "cell_type": "code",
   "execution_count": 89,
   "metadata": {},
   "outputs": [],
   "source": [
    "def isLeapYear(year):\n",
    "    if year % 4 == 0:\n",
    "        if (year % 100 != 0) or (year % 400 == 0):  # 콜론 추가\n",
    "            return True\n",
    "    return False\n"
   ]
  },
  {
   "cell_type": "code",
   "execution_count": 90,
   "metadata": {},
   "outputs": [
    {
     "data": {
      "text/plain": [
       "True"
      ]
     },
     "execution_count": 90,
     "metadata": {},
     "output_type": "execute_result"
    }
   ],
   "source": [
    "isLeapYear(2024) # -> True/ False"
   ]
  },
  {
   "cell_type": "markdown",
   "metadata": {},
   "source": [
    "O ->1600, 2000, 2024, 1996  \n",
    "X -> 1900, 2023, 2100"
   ]
  },
  {
   "cell_type": "markdown",
   "metadata": {},
   "source": [
    "### 가변인자 처리 함수"
   ]
  },
  {
   "cell_type": "code",
   "execution_count": 91,
   "metadata": {},
   "outputs": [],
   "source": [
    "def add_many(*args):\n",
    "    result = 0\n",
    "    for i in args:\n",
    "        result += i\n",
    "    return result"
   ]
  },
  {
   "cell_type": "code",
   "execution_count": 92,
   "metadata": {},
   "outputs": [
    {
     "name": "stdout",
     "output_type": "stream",
     "text": [
      "5\n",
      "55\n"
     ]
    }
   ],
   "source": [
    "print(add_many(2,3))\n",
    "print(add_many(1,2,3,4,5,6,7,8,9,10))"
   ]
  },
  {
   "cell_type": "code",
   "execution_count": 93,
   "metadata": {},
   "outputs": [],
   "source": [
    "def add_mul(choice, *args):\n",
    "    if choice == 'add':\n",
    "        result = 0\n",
    "        for i in args:\n",
    "            result += i\n",
    "    elif choice == 'mul':\n",
    "        result = 1\n",
    "        for i in args:\n",
    "            result *= i\n",
    "    return result"
   ]
  },
  {
   "cell_type": "code",
   "execution_count": 94,
   "metadata": {},
   "outputs": [
    {
     "name": "stdout",
     "output_type": "stream",
     "text": [
      "120\n",
      "6\n"
     ]
    }
   ],
   "source": [
    "print(add_mul('mul',1,2,3,4,5))\n",
    "print(add_mul('add',1,2,3))"
   ]
  },
  {
   "cell_type": "code",
   "execution_count": 97,
   "metadata": {},
   "outputs": [],
   "source": [
    "def add_mul4(*args, choice='add'):\n",
    "    if choice == 'add':\n",
    "        result = 0\n",
    "        for i in args:\n",
    "            result += i\n",
    "    elif choice == 'mul':\n",
    "        result = 1\n",
    "        for i in args:\n",
    "            result *= i\n",
    "    return result"
   ]
  },
  {
   "cell_type": "code",
   "execution_count": 98,
   "metadata": {},
   "outputs": [
    {
     "name": "stdout",
     "output_type": "stream",
     "text": [
      "15\n",
      "6\n"
     ]
    }
   ],
   "source": [
    "print(add_mul4(1,2,3,4,5))\n",
    "print(add_mul4(1,2,3,choice = 'mul'))"
   ]
  },
  {
   "cell_type": "code",
   "execution_count": 99,
   "metadata": {},
   "outputs": [],
   "source": [
    "def add_and_mul(a, b):\n",
    "    return (a+b, a*b)"
   ]
  },
  {
   "cell_type": "code",
   "execution_count": 100,
   "metadata": {},
   "outputs": [
    {
     "data": {
      "text/plain": [
       "(7, 12)"
      ]
     },
     "execution_count": 100,
     "metadata": {},
     "output_type": "execute_result"
    }
   ],
   "source": [
    "result = add_and_mul(3,4)\n",
    "result"
   ]
  },
  {
   "cell_type": "code",
   "execution_count": 101,
   "metadata": {},
   "outputs": [
    {
     "name": "stdout",
     "output_type": "stream",
     "text": [
      "7\n",
      "12\n"
     ]
    }
   ],
   "source": [
    "result1, result2 = add_and_mul(3,4)\n",
    "print(result1)\n",
    "print(result2)"
   ]
  },
  {
   "cell_type": "code",
   "execution_count": 102,
   "metadata": {},
   "outputs": [],
   "source": [
    "def func(a, b):\n",
    "    return a+b,a-b, a*b, a//b"
   ]
  },
  {
   "cell_type": "code",
   "execution_count": 103,
   "metadata": {},
   "outputs": [
    {
     "name": "stdout",
     "output_type": "stream",
     "text": [
      "13 7 30 3\n"
     ]
    }
   ],
   "source": [
    "num1, num2, num3, num4 = func(10, 3)\n",
    "print(num1, num2, num3, num4)"
   ]
  }
 ],
 "metadata": {
  "kernelspec": {
   "display_name": "venv",
   "language": "python",
   "name": "python3"
  },
  "language_info": {
   "codemirror_mode": {
    "name": "ipython",
    "version": 3
   },
   "file_extension": ".py",
   "mimetype": "text/x-python",
   "name": "python",
   "nbconvert_exporter": "python",
   "pygments_lexer": "ipython3",
   "version": "3.12.7"
  }
 },
 "nbformat": 4,
 "nbformat_minor": 2
}
