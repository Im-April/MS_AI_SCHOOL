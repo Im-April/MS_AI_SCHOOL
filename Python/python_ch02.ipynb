{
 "cells": [
  {
   "cell_type": "markdown",
   "metadata": {},
   "source": [
    "### while 반복문"
   ]
  },
  {
   "cell_type": "code",
   "execution_count": 1,
   "metadata": {},
   "outputs": [
    {
     "name": "stdout",
     "output_type": "stream",
     "text": [
      "1번째 출력 : Hello Python\n",
      "2번째 출력 : Hello Python\n",
      "3번째 출력 : Hello Python\n",
      "4번째 출력 : Hello Python\n",
      "5번째 출력 : Hello Python\n",
      "반복문 종료\n"
     ]
    }
   ],
   "source": [
    "i = 0\n",
    "while i < 5:\n",
    "    i = i+1\n",
    "    print(f'{i}번째 출력 : Hello Python')\n",
    "print('반복문 종료')"
   ]
  },
  {
   "cell_type": "code",
   "execution_count": 2,
   "metadata": {},
   "outputs": [
    {
     "name": "stdout",
     "output_type": "stream",
     "text": [
      "1 2 3 4 5 6 7 8 9 10 11 12 13 14 15 16 17 18 19 20 반복문 종료\n"
     ]
    }
   ],
   "source": [
    "i = 0\n",
    "\n",
    "while i < 20:\n",
    "    i += 1\n",
    "    print(i, end=\" \")\n",
    "print('반복문 종료')"
   ]
  },
  {
   "cell_type": "code",
   "execution_count": 3,
   "metadata": {},
   "outputs": [
    {
     "name": "stdout",
     "output_type": "stream",
     "text": [
      "1부터 5까지의 합은 15입니다.\n"
     ]
    }
   ],
   "source": [
    "# 사용자로부터 정수값을 입력받아 1부터 입력받은 숫자까지의 합을 구해 봅시다. \n",
    "\n",
    "endValue = int(input('합을 원하는 정수값 입력 : '))\n",
    "\n",
    "hap = 0\n",
    "i = 0\n",
    "while i < endValue:\n",
    "    i += 1\n",
    "    hap = hap + i\n",
    "    \n",
    "print(f'1부터 {endValue}까지의 합은 {hap}입니다.')"
   ]
  },
  {
   "cell_type": "code",
   "execution_count": 4,
   "metadata": {},
   "outputs": [
    {
     "name": "stdout",
     "output_type": "stream",
     "text": [
      "\n",
      "1. ADD\n",
      "2. Del\n",
      "3. Qite\n",
      "\n",
      "\n",
      "1. ADD\n",
      "2. Del\n",
      "3. Qite\n",
      "\n",
      "\n",
      "1. ADD\n",
      "2. Del\n",
      "3. Qite\n",
      "\n"
     ]
    }
   ],
   "source": [
    "prompt = \"\"\"\n",
    "1. ADD\n",
    "2. Del\n",
    "3. Qite\n",
    "\"\"\"\n",
    "\n",
    "input_num = 0\n",
    "\n",
    "while input_num != 3 :\n",
    "    print(prompt)\n",
    "    input_num = int(input())"
   ]
  },
  {
   "cell_type": "markdown",
   "metadata": {},
   "source": [
    "### for 문"
   ]
  },
  {
   "cell_type": "code",
   "execution_count": 5,
   "metadata": {},
   "outputs": [
    {
     "name": "stdout",
     "output_type": "stream",
     "text": [
      "Hello python\n",
      "Hello python\n",
      "Hello python\n",
      "Hello python\n",
      "Hello python\n"
     ]
    }
   ],
   "source": [
    "for i in \"hello\":\n",
    "    print('Hello python')"
   ]
  },
  {
   "cell_type": "code",
   "execution_count": 6,
   "metadata": {},
   "outputs": [
    {
     "name": "stdout",
     "output_type": "stream",
     "text": [
      "h\n",
      "e\n",
      "l\n",
      "l\n",
      "o\n"
     ]
    }
   ],
   "source": [
    "for i in \"hello\":\n",
    "    print(i)"
   ]
  },
  {
   "cell_type": "code",
   "execution_count": 7,
   "metadata": {},
   "outputs": [
    {
     "name": "stdout",
     "output_type": "stream",
     "text": [
      "0\n",
      "1\n",
      "2\n",
      "3\n",
      "4\n"
     ]
    }
   ],
   "source": [
    "for i in range(5):\n",
    "    print(i)"
   ]
  },
  {
   "cell_type": "code",
   "execution_count": 8,
   "metadata": {},
   "outputs": [
    {
     "name": "stdout",
     "output_type": "stream",
     "text": [
      "1\n",
      "2\n",
      "3\n",
      "4\n",
      "5\n"
     ]
    }
   ],
   "source": [
    "for i in range(1,6):\n",
    "    print(i)"
   ]
  },
  {
   "cell_type": "code",
   "execution_count": 9,
   "metadata": {},
   "outputs": [
    {
     "name": "stdout",
     "output_type": "stream",
     "text": [
      "1\n",
      "3\n",
      "5\n",
      "7\n",
      "9\n"
     ]
    }
   ],
   "source": [
    "for i in range(1,11,2):\n",
    "    print(i)"
   ]
  },
  {
   "cell_type": "code",
   "execution_count": 10,
   "metadata": {},
   "outputs": [
    {
     "name": "stdout",
     "output_type": "stream",
     "text": [
      "10\n",
      "9\n",
      "8\n",
      "7\n",
      "6\n",
      "5\n",
      "4\n",
      "3\n",
      "2\n",
      "1\n"
     ]
    }
   ],
   "source": [
    "for i in range(10,0,-1):\n",
    "    print(i)"
   ]
  },
  {
   "cell_type": "code",
   "execution_count": 11,
   "metadata": {},
   "outputs": [
    {
     "name": "stdout",
     "output_type": "stream",
     "text": [
      "1부터 10까지의 합은 55 입니다.\n"
     ]
    }
   ],
   "source": [
    "# for문과 range()함수를 사용해서 1부터 10까지의 합을 구해 봅시다.\n",
    "hap = 0\n",
    "\n",
    "for i in range(1,11):\n",
    "    hap += i\n",
    "\n",
    "print(f'1부터 10까지의 합은 {hap} 입니다.')"
   ]
  },
  {
   "cell_type": "code",
   "execution_count": 12,
   "metadata": {},
   "outputs": [
    {
     "name": "stdout",
     "output_type": "stream",
     "text": [
      "2 * 1 = 2\n",
      "2 * 2 = 4\n",
      "2 * 3 = 6\n",
      "2 * 4 = 8\n",
      "2 * 5 = 10\n",
      "2 * 6 = 12\n",
      "2 * 7 = 14\n",
      "2 * 8 = 16\n",
      "2 * 9 = 18\n"
     ]
    }
   ],
   "source": [
    "# 사용자로부터 입력받은 숫자에 해당하는 구구단을 출력해 봅시다.\n",
    "dan = 2\n",
    "\n",
    "for i in range(1,10):\n",
    "    print(f'{dan} * {i} = {dan*i}')"
   ]
  },
  {
   "cell_type": "code",
   "execution_count": 13,
   "metadata": {},
   "outputs": [
    {
     "name": "stdout",
     "output_type": "stream",
     "text": [
      "2 * 1 = 2\n",
      "2 * 2 = 4\n",
      "2 * 3 = 6\n",
      "2 * 4 = 8\n",
      "2 * 5 = 10\n",
      "2 * 6 = 12\n",
      "2 * 7 = 14\n",
      "2 * 8 = 16\n",
      "2 * 9 = 18\n"
     ]
    }
   ],
   "source": [
    "dan = 2\n",
    "i = 1\n",
    "\n",
    "while i <= 9:\n",
    "    print(f'{dan} * {i} = {dan*i}')\n",
    "    i += 1"
   ]
  },
  {
   "cell_type": "code",
   "execution_count": 18,
   "metadata": {},
   "outputs": [
    {
     "name": "stdout",
     "output_type": "stream",
     "text": [
      "2*1=  2  3*1=  3  4*1=  4  5*1=  5  6*1=  6  7*1=  7  8*1=  8  9*1=  9  \n",
      "2*2=  4  3*2=  6  4*2=  8  5*2= 10  6*2= 12  7*2= 14  8*2= 16  9*2= 18  \n",
      "2*3=  6  3*3=  9  4*3= 12  5*3= 15  6*3= 18  7*3= 21  8*3= 24  9*3= 27  \n",
      "2*4=  8  3*4= 12  4*4= 16  5*4= 20  6*4= 24  7*4= 28  8*4= 32  9*4= 36  \n",
      "2*5= 10  3*5= 15  4*5= 20  5*5= 25  6*5= 30  7*5= 35  8*5= 40  9*5= 45  \n",
      "2*6= 12  3*6= 18  4*6= 24  5*6= 30  6*6= 36  7*6= 42  8*6= 48  9*6= 54  \n",
      "2*7= 14  3*7= 21  4*7= 28  5*7= 35  6*7= 42  7*7= 49  8*7= 56  9*7= 63  \n",
      "2*8= 16  3*8= 24  4*8= 32  5*8= 40  6*8= 48  7*8= 56  8*8= 64  9*8= 72  \n",
      "2*9= 18  3*9= 27  4*9= 36  5*9= 45  6*9= 54  7*9= 63  8*9= 72  9*9= 81  \n"
     ]
    }
   ],
   "source": [
    "# 구구단 2단~9단 출력\n",
    "# 구구단 출력 (2단부터 9단까지 가로로 정렬)\n",
    "\n",
    "for i in range(1, 10): # 1부터 9까지\n",
    "    for j in range(2, 10): # 2단부터 9단까지\n",
    "        print(f\"{j}*{i}={j*i:3}\", end=\"  \")\n",
    "    print() # 한 줄 출력 후 줄 바꿈\n"
   ]
  },
  {
   "cell_type": "markdown",
   "metadata": {},
   "source": [
    "### break, continue"
   ]
  },
  {
   "cell_type": "code",
   "execution_count": 21,
   "metadata": {},
   "outputs": [
    {
     "name": "stdout",
     "output_type": "stream",
     "text": [
      "6 21\n",
      "21\n"
     ]
    }
   ],
   "source": [
    "# break\n",
    "\n",
    "hap = 0\n",
    "\n",
    "for i in range(1,11):\n",
    "    hap = hap + i\n",
    "    if hap >= 20:\n",
    "        print(i, hap)\n",
    "        break\n",
    "print(hap)"
   ]
  },
  {
   "cell_type": "code",
   "execution_count": 22,
   "metadata": {},
   "outputs": [
    {
     "name": "stdout",
     "output_type": "stream",
     "text": [
      "\n",
      "1. ADD\n",
      "2. Del\n",
      "3. Quie\n",
      "\n",
      "Enter number :\n",
      "\n",
      "\n",
      "1. ADD\n",
      "2. Del\n",
      "3. Quie\n",
      "\n",
      "Enter number :\n",
      "\n"
     ]
    }
   ],
   "source": [
    "prompt = \"\"\"\n",
    "1. ADD\n",
    "2. Del\n",
    "3. Quie\n",
    "\n",
    "Enter number :\n",
    "\"\"\"\n",
    "\n",
    "input_num = 0\n",
    "\n",
    "while True:\n",
    "    print(prompt)\n",
    "    input_num = int(input())\n",
    "    if input_num == 3:\n",
    "        break"
   ]
  },
  {
   "cell_type": "code",
   "execution_count": 23,
   "metadata": {},
   "outputs": [
    {
     "name": "stdout",
     "output_type": "stream",
     "text": [
      "1 3 5 7 9 \n",
      "25\n"
     ]
    }
   ],
   "source": [
    "# continue\n",
    "hap = 0\n",
    "for i in range(1,11):\n",
    "    if i % 2 == 0:\n",
    "        continue\n",
    "    print(i, end=\" \")\n",
    "    hap += i\n",
    "\n",
    "print(\"\")\n",
    "print(hap)\n"
   ]
  },
  {
   "cell_type": "code",
   "execution_count": 24,
   "metadata": {},
   "outputs": [
    {
     "name": "stdout",
     "output_type": "stream",
     "text": [
      "52\n",
      "너무 작아요\n",
      "너무 커요\n",
      "너무 커요\n",
      "너무 커요\n",
      "정답입니다.\n"
     ]
    }
   ],
   "source": [
    "import random\n",
    "\n",
    "answer = random.randint(1,100)\n",
    "print(answer)\n",
    "\n",
    "while True:\n",
    "    guess = int(input('1부터 100사이의 수를 맞춰주세요 : '))\n",
    "\n",
    "    if guess == answer:\n",
    "        print('정답입니다.')\n",
    "        break\n",
    "    elif guess > answer:\n",
    "        print('너무 커요')\n",
    "    elif guess < answer:\n",
    "        print('너무 작아요')"
   ]
  },
  {
   "cell_type": "code",
   "execution_count": 25,
   "metadata": {},
   "outputs": [
    {
     "name": "stdout",
     "output_type": "stream",
     "text": [
      "1 2 4 7 8 11 13 14 16 17 19 "
     ]
    }
   ],
   "source": [
    "# 20 보다 작은 정수 중에서 3의 배수와 5의 배수를 제외하고 출력해 봅시다.\n",
    "x = 0\n",
    "\n",
    "while True:\n",
    "    x += 1\n",
    "    if x >= 20:\n",
    "        break\n",
    "    if x%3==0 or x%5==0:\n",
    "        continue\n",
    "\n",
    "    print(x, end=' ')\n"
   ]
  },
  {
   "cell_type": "code",
   "execution_count": 26,
   "metadata": {},
   "outputs": [
    {
     "name": "stdout",
     "output_type": "stream",
     "text": [
      "*\n",
      "***\n",
      "*****\n",
      "*******\n",
      "*********\n",
      "***********\n",
      "*************\n",
      "***************\n",
      "*****************\n",
      "*******************\n"
     ]
    }
   ],
   "source": [
    "for i in range(1,11):\n",
    "    print('*' * (2*i - 1))"
   ]
  },
  {
   "cell_type": "code",
   "execution_count": 27,
   "metadata": {},
   "outputs": [
    {
     "name": "stdout",
     "output_type": "stream",
     "text": [
      "*******************\n",
      "*****************\n",
      "***************\n",
      "*************\n",
      "***********\n",
      "*********\n",
      "*******\n",
      "*****\n",
      "***\n",
      "*\n"
     ]
    }
   ],
   "source": [
    "for i in range(10,0,-1):\n",
    "    print('*' * (2*i - 1))"
   ]
  },
  {
   "cell_type": "code",
   "execution_count": 28,
   "metadata": {},
   "outputs": [
    {
     "name": "stdout",
     "output_type": "stream",
     "text": [
      "          *\n",
      "         ***\n",
      "        *****\n",
      "       *******\n",
      "      *********\n",
      "     ***********\n",
      "    *************\n",
      "   ***************\n",
      "  *****************\n",
      " *******************\n"
     ]
    }
   ],
   "source": [
    "n = 10\n",
    "for i in range(n):\n",
    "    print(' ' * ((n-1) - i), end = ' ')\n",
    "    print('*' * (2*i+1))"
   ]
  },
  {
   "cell_type": "markdown",
   "metadata": {},
   "source": [
    "### list"
   ]
  },
  {
   "cell_type": "code",
   "execution_count": 30,
   "metadata": {},
   "outputs": [
    {
     "name": "stdout",
     "output_type": "stream",
     "text": [
      "<class 'list'>\n"
     ]
    }
   ],
   "source": [
    "a = []\n",
    "\n",
    "print(type(a))"
   ]
  },
  {
   "cell_type": "code",
   "execution_count": 31,
   "metadata": {},
   "outputs": [],
   "source": [
    "a = [1,2,3]\n",
    "b = ['Life','is','too','short']\n",
    "c = [1, 'hello']\n",
    "d = [1,'hello',[2,'hi']]"
   ]
  },
  {
   "cell_type": "code",
   "execution_count": null,
   "metadata": {},
   "outputs": [
    {
     "data": {
      "text/plain": [
       "'Life'"
      ]
     },
     "execution_count": 32,
     "metadata": {},
     "output_type": "execute_result"
    }
   ],
   "source": [
    "b = ['Life','is','too','short']\n",
    "\n",
    "b[0]\n"
   ]
  },
  {
   "cell_type": "code",
   "execution_count": 33,
   "metadata": {},
   "outputs": [
    {
     "data": {
      "text/plain": [
       "'short'"
      ]
     },
     "execution_count": 33,
     "metadata": {},
     "output_type": "execute_result"
    }
   ],
   "source": [
    "b[-1]"
   ]
  },
  {
   "cell_type": "code",
   "execution_count": 34,
   "metadata": {},
   "outputs": [
    {
     "data": {
      "text/plain": [
       "['Life', 'is', 'too']"
      ]
     },
     "execution_count": 34,
     "metadata": {},
     "output_type": "execute_result"
    }
   ],
   "source": [
    "b[:3]"
   ]
  },
  {
   "cell_type": "code",
   "execution_count": 35,
   "metadata": {},
   "outputs": [
    {
     "data": {
      "text/plain": [
       "['is', 'too', 'short']"
      ]
     },
     "execution_count": 35,
     "metadata": {},
     "output_type": "execute_result"
    }
   ],
   "source": [
    "b[1:]"
   ]
  },
  {
   "cell_type": "code",
   "execution_count": 36,
   "metadata": {},
   "outputs": [
    {
     "data": {
      "text/plain": [
       "['Life', 'is', 'too', 'short']"
      ]
     },
     "execution_count": 36,
     "metadata": {},
     "output_type": "execute_result"
    }
   ],
   "source": [
    "b[:]"
   ]
  },
  {
   "cell_type": "code",
   "execution_count": 37,
   "metadata": {},
   "outputs": [
    {
     "data": {
      "text/plain": [
       "[1, 'hello']"
      ]
     },
     "execution_count": 37,
     "metadata": {},
     "output_type": "execute_result"
    }
   ],
   "source": [
    "d = [1,'hello',[2,'hi']]\n",
    "\n",
    "d[:2]"
   ]
  },
  {
   "cell_type": "code",
   "execution_count": 38,
   "metadata": {},
   "outputs": [
    {
     "data": {
      "text/plain": [
       "[2, 'hi']"
      ]
     },
     "execution_count": 38,
     "metadata": {},
     "output_type": "execute_result"
    }
   ],
   "source": [
    "d[2]"
   ]
  },
  {
   "cell_type": "code",
   "execution_count": 39,
   "metadata": {},
   "outputs": [
    {
     "data": {
      "text/plain": [
       "'hi'"
      ]
     },
     "execution_count": 39,
     "metadata": {},
     "output_type": "execute_result"
    }
   ],
   "source": [
    "d[2][1]"
   ]
  },
  {
   "cell_type": "code",
   "execution_count": 40,
   "metadata": {},
   "outputs": [
    {
     "name": "stdout",
     "output_type": "stream",
     "text": [
      "[10, 20, 30, 40, 50]\n",
      "[10, 100, 40, 50]\n"
     ]
    }
   ],
   "source": [
    "a = [10,20,30,40,50]\n",
    "\n",
    "print(a)\n",
    "a[1:3] = [100]\n",
    "print(a)"
   ]
  },
  {
   "cell_type": "code",
   "execution_count": 41,
   "metadata": {},
   "outputs": [
    {
     "name": "stdout",
     "output_type": "stream",
     "text": [
      "['apple', 'banana']\n",
      "['apple', 'banana', 'cherry']\n"
     ]
    }
   ],
   "source": [
    "fruits = ['apple', 'banana']\n",
    "\n",
    "print(fruits)\n",
    "\n",
    "fruits.append('cherry')\n",
    "\n",
    "print(fruits)"
   ]
  },
  {
   "cell_type": "code",
   "execution_count": 42,
   "metadata": {},
   "outputs": [
    {
     "name": "stdout",
     "output_type": "stream",
     "text": [
      "['apple', 'banana', 'cherry']\n",
      "['apple', 'mango', 'banana', 'cherry']\n"
     ]
    }
   ],
   "source": [
    "print(fruits)\n",
    "fruits.insert(1,'mango')\n",
    "print(fruits)"
   ]
  },
  {
   "cell_type": "code",
   "execution_count": 43,
   "metadata": {},
   "outputs": [
    {
     "name": "stdout",
     "output_type": "stream",
     "text": [
      "['apple', 'mango', 'banana', 'cherry']\n",
      "['apple', 'mango', 'banana']\n"
     ]
    }
   ],
   "source": [
    "print(fruits)\n",
    "fruits.pop()\n",
    "print(fruits)"
   ]
  },
  {
   "cell_type": "code",
   "execution_count": 44,
   "metadata": {},
   "outputs": [
    {
     "name": "stdout",
     "output_type": "stream",
     "text": [
      "['apple', 'mango', 'banana']\n",
      "['apple', 'banana']\n"
     ]
    }
   ],
   "source": [
    "print(fruits)\n",
    "fruits.pop(1)\n",
    "print(fruits)"
   ]
  },
  {
   "cell_type": "code",
   "execution_count": 45,
   "metadata": {},
   "outputs": [
    {
     "name": "stdout",
     "output_type": "stream",
     "text": [
      "['apple', 'banana']\n",
      "['banana']\n"
     ]
    }
   ],
   "source": [
    "print(fruits)\n",
    "fruits.remove('apple')\n",
    "print(fruits)"
   ]
  },
  {
   "cell_type": "code",
   "execution_count": 46,
   "metadata": {},
   "outputs": [],
   "source": [
    "score = [100, 30, 50, 80, 90, 70]"
   ]
  },
  {
   "cell_type": "code",
   "execution_count": 47,
   "metadata": {},
   "outputs": [
    {
     "name": "stdout",
     "output_type": "stream",
     "text": [
      "[100, 30, 50, 80, 90, 70]\n",
      "[30, 50, 70, 80, 90, 100]\n"
     ]
    }
   ],
   "source": [
    "print(score)\n",
    "score.sort()\n",
    "print(score)"
   ]
  },
  {
   "cell_type": "code",
   "execution_count": 49,
   "metadata": {},
   "outputs": [
    {
     "name": "stdout",
     "output_type": "stream",
     "text": [
      "[30, 50, 70, 80, 90, 100]\n",
      "[100, 90, 80, 70, 50, 30]\n"
     ]
    }
   ],
   "source": [
    "print(score)\n",
    "score.sort(reverse=True)\n",
    "print(score)"
   ]
  },
  {
   "cell_type": "code",
   "execution_count": 50,
   "metadata": {},
   "outputs": [
    {
     "name": "stdout",
     "output_type": "stream",
     "text": [
      "[100, 90, 80, 70, 50, 30]\n",
      "[30, 50, 70, 80, 90, 100]\n"
     ]
    }
   ],
   "source": [
    "print(score)\n",
    "score.reverse()\n",
    "print(score)"
   ]
  },
  {
   "cell_type": "code",
   "execution_count": 51,
   "metadata": {},
   "outputs": [
    {
     "data": {
      "text/plain": [
       "6"
      ]
     },
     "execution_count": 51,
     "metadata": {},
     "output_type": "execute_result"
    }
   ],
   "source": [
    "len(score)"
   ]
  },
  {
   "cell_type": "code",
   "execution_count": 52,
   "metadata": {},
   "outputs": [],
   "source": [
    "score = [100,50, 30, 50, 80,50, 90, 70]"
   ]
  },
  {
   "cell_type": "code",
   "execution_count": 53,
   "metadata": {},
   "outputs": [
    {
     "data": {
      "text/plain": [
       "3"
      ]
     },
     "execution_count": 53,
     "metadata": {},
     "output_type": "execute_result"
    }
   ],
   "source": [
    "score.count(50)"
   ]
  },
  {
   "cell_type": "code",
   "execution_count": 54,
   "metadata": {},
   "outputs": [
    {
     "name": "stdout",
     "output_type": "stream",
     "text": [
      "520\n"
     ]
    }
   ],
   "source": [
    "print(sum(score))"
   ]
  },
  {
   "cell_type": "code",
   "execution_count": 56,
   "metadata": {},
   "outputs": [
    {
     "name": "stdout",
     "output_type": "stream",
     "text": [
      "1번 학생은 합격입니다.\n",
      "2번 학생은 불합격입니다.\n",
      "3번 학생은 합격입니다.\n",
      "4번 학생은 불합격입니다.\n",
      "5번 학생은 합격입니다.\n"
     ]
    }
   ],
   "source": [
    "# 평균\n",
    "\n",
    "marks = [90, 25, 67, 45, 80]\n",
    "bunho = 0\n",
    "\n",
    "for mark in marks:\n",
    "    bunho += 1\n",
    "\n",
    "    if mark >= 60:\n",
    "        print(f'{bunho}번 학생은 합격입니다.') \n",
    "    else:\n",
    "        print(f'{bunho}번 학생은 불합격입니다.')"
   ]
  },
  {
   "cell_type": "code",
   "execution_count": 57,
   "metadata": {},
   "outputs": [
    {
     "name": "stdout",
     "output_type": "stream",
     "text": [
      "끝말잇기 게임\n",
      "시작\n",
      "가나다\n",
      "단어를 입력 다람쥐\n",
      "단어를 입력 쥐구멍\n",
      "단어를 입력 멍멍이\n",
      "단어를 입력 이이이\n",
      "단어를 입력 욕\n",
      "땡\n"
     ]
    }
   ],
   "source": [
    "# 끝말잇기 게임\n",
    "\n",
    "print('끝말잇기 게임')\n",
    "print('시작')\n",
    "var ='가나다'\n",
    "print(var)\n",
    "\n",
    "while True:\n",
    "    ans = input('단어 입력 : ')\n",
    "    print('단어를 입력', ans)\n",
    "\n",
    "    if var[-1] == ans[0]:\n",
    "        var = ans\n",
    "    else:\n",
    "        print('땡')\n",
    "        break\n",
    "    \n"
   ]
  },
  {
   "cell_type": "code",
   "execution_count": null,
   "metadata": {},
   "outputs": [],
   "source": []
  }
 ],
 "metadata": {
  "kernelspec": {
   "display_name": "venv",
   "language": "python",
   "name": "python3"
  },
  "language_info": {
   "codemirror_mode": {
    "name": "ipython",
    "version": 3
   },
   "file_extension": ".py",
   "mimetype": "text/x-python",
   "name": "python",
   "nbconvert_exporter": "python",
   "pygments_lexer": "ipython3",
   "version": "3.12.7"
  }
 },
 "nbformat": 4,
 "nbformat_minor": 2
}
